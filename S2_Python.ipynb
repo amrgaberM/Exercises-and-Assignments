{
 "cells": [
  {
   "cell_type": "markdown",
   "metadata": {
    "id": "JIX9shev5qME"
   },
   "source": [
    "#  For Loops and While Loops"
   ]
  },
  {
   "cell_type": "markdown",
   "metadata": {
    "id": "8FdTMZd45kyk"
   },
   "source": [
    "## For Loops"
   ]
  },
  {
   "cell_type": "markdown",
   "metadata": {
    "id": "13CPqC065tGh"
   },
   "source": [
    "Iterating Over a List"
   ]
  },
  {
   "cell_type": "code",
   "execution_count": 1,
   "metadata": {
    "colab": {
     "base_uri": "https://localhost:8080/"
    },
    "id": "e6-jUdem43oS",
    "outputId": "2ed4e29c-1902-4980-9212-918448bfa37e"
   },
   "outputs": [
    {
     "name": "stdout",
     "output_type": "stream",
     "text": [
      "apple\n",
      "banana\n",
      "cherry\n"
     ]
    }
   ],
   "source": [
    "fruits = [\"apple\", \"banana\", \"cherry\"]\n",
    "for fruit in fruits:\n",
    "    print(fruit)"
   ]
  },
  {
   "cell_type": "markdown",
   "metadata": {
    "id": "lkGstPMm5v1d"
   },
   "source": [
    "Iterating Over a Range of Numbers"
   ]
  },
  {
   "cell_type": "code",
   "execution_count": 2,
   "metadata": {
    "colab": {
     "base_uri": "https://localhost:8080/"
    },
    "id": "Gz2JsSjc5uLV",
    "outputId": "271821c8-0069-4e8a-e8d8-62b3a30c71c5"
   },
   "outputs": [
    {
     "name": "stdout",
     "output_type": "stream",
     "text": [
      "0\n",
      "1\n",
      "2\n",
      "3\n",
      "4\n"
     ]
    }
   ],
   "source": [
    "for i in range(5):\n",
    "    print(i)"
   ]
  },
  {
   "cell_type": "markdown",
   "metadata": {
    "id": "JMFl7nH751G4"
   },
   "source": [
    "Iterating Over a String"
   ]
  },
  {
   "cell_type": "code",
   "execution_count": 3,
   "metadata": {
    "colab": {
     "base_uri": "https://localhost:8080/"
    },
    "id": "1KMXH24w51CY",
    "outputId": "00cf7cac-6b85-4e1b-e1df-d3934571bd05"
   },
   "outputs": [
    {
     "name": "stdout",
     "output_type": "stream",
     "text": [
      "P\n",
      "y\n",
      "t\n",
      "h\n",
      "o\n",
      "n\n"
     ]
    }
   ],
   "source": [
    "word = \"Python\"\n",
    "for letter in word:\n",
    "    print(letter)"
   ]
  },
  {
   "cell_type": "markdown",
   "metadata": {
    "id": "0modhrSt53-P"
   },
   "source": [
    "Using a For Loop with an Else Clause"
   ]
  },
  {
   "cell_type": "code",
   "execution_count": 4,
   "metadata": {
    "colab": {
     "base_uri": "https://localhost:8080/"
    },
    "id": "_1P_Eqkb52QM",
    "outputId": "ce1b6520-ee31-47b6-e090-b7cda672dbfe"
   },
   "outputs": [
    {
     "name": "stdout",
     "output_type": "stream",
     "text": [
      "0\n",
      "1\n",
      "2\n",
      "Loop finished successfully.\n"
     ]
    }
   ],
   "source": [
    "for i in range(3):\n",
    "    print(i)\n",
    "else:\n",
    "    print(\"Loop finished successfully.\")"
   ]
  },
  {
   "cell_type": "markdown",
   "metadata": {
    "id": "iivux_w-568J"
   },
   "source": [
    "Nested For Loop (Multiplication Table)"
   ]
  },
  {
   "cell_type": "code",
   "execution_count": 5,
   "metadata": {
    "colab": {
     "base_uri": "https://localhost:8080/"
    },
    "id": "LqWMyxvh55Gs",
    "outputId": "58ab6c85-71a7-483a-ea67-9e718a15fd00"
   },
   "outputs": [
    {
     "name": "stdout",
     "output_type": "stream",
     "text": [
      "1 * 1 = 1\n",
      "1 * 2 = 2\n",
      "1 * 3 = 3\n",
      "2 * 1 = 2\n",
      "2 * 2 = 4\n",
      "2 * 3 = 6\n",
      "3 * 1 = 3\n",
      "3 * 2 = 6\n",
      "3 * 3 = 9\n"
     ]
    }
   ],
   "source": [
    "for i in range(1, 4):\n",
    "    for j in range(1, 4):\n",
    "        print(f\"{i} * {j} = {i * j}\")"
   ]
  },
  {
   "cell_type": "markdown",
   "metadata": {
    "id": "Y1vNwmhg5_L3"
   },
   "source": [
    "## While Loops"
   ]
  },
  {
   "cell_type": "markdown",
   "metadata": {
    "id": "XHTH8-Hr6A3o"
   },
   "source": [
    "Basic While Loop"
   ]
  },
  {
   "cell_type": "code",
   "execution_count": 6,
   "metadata": {
    "colab": {
     "base_uri": "https://localhost:8080/"
    },
    "id": "7C6yPtuN58ur",
    "outputId": "f3a49ca7-5ade-4b94-9d5e-8da15f4ecd89"
   },
   "outputs": [
    {
     "name": "stdout",
     "output_type": "stream",
     "text": [
      "0\n",
      "1\n",
      "2\n",
      "3\n",
      "4\n"
     ]
    }
   ],
   "source": [
    "count = 0\n",
    "while count < 5:\n",
    "    print(count)\n",
    "    count += 1"
   ]
  },
  {
   "cell_type": "markdown",
   "metadata": {
    "id": "UJinjIfh6DuH"
   },
   "source": [
    "While Loop with Break Statement"
   ]
  },
  {
   "cell_type": "code",
   "execution_count": 7,
   "metadata": {
    "colab": {
     "base_uri": "https://localhost:8080/"
    },
    "id": "w9lgpu9v6CSL",
    "outputId": "3e372e7b-dfca-4e9e-f35e-2105ec17d6e4"
   },
   "outputs": [
    {
     "name": "stdout",
     "output_type": "stream",
     "text": [
      "0\n",
      "1\n",
      "2\n",
      "3\n",
      "4\n",
      "5\n"
     ]
    }
   ],
   "source": [
    "count = 0\n",
    "while count < 10:\n",
    "    print(count)\n",
    "    if count == 5:\n",
    "        break\n",
    "    count += 1\n"
   ]
  },
  {
   "cell_type": "markdown",
   "metadata": {
    "id": "1pS_wP-E6GK_"
   },
   "source": [
    "While Loop with Continue Statement"
   ]
  },
  {
   "cell_type": "code",
   "execution_count": 8,
   "metadata": {
    "colab": {
     "base_uri": "https://localhost:8080/"
    },
    "id": "SPWNmt8U6E4E",
    "outputId": "27de3978-613c-4138-ee7e-ea5ed3b23d3b"
   },
   "outputs": [
    {
     "name": "stdout",
     "output_type": "stream",
     "text": [
      "1\n",
      "2\n",
      "4\n",
      "5\n"
     ]
    }
   ],
   "source": [
    "count = 0\n",
    "while count < 5:\n",
    "    count += 1\n",
    "    if count == 3:\n",
    "        continue\n",
    "    print(count)\n"
   ]
  },
  {
   "cell_type": "markdown",
   "metadata": {
    "id": "X_sR1ejU6Ikb"
   },
   "source": [
    "Infinite While Loop with a Break"
   ]
  },
  {
   "cell_type": "code",
   "execution_count": 9,
   "metadata": {
    "colab": {
     "base_uri": "https://localhost:8080/"
    },
    "id": "gKgizRbu6HQZ",
    "outputId": "16a5864a-a7b6-4170-f004-f932dfb04a40"
   },
   "outputs": [
    {
     "name": "stdout",
     "output_type": "stream",
     "text": [
      "Type 'exit' to quit: exit\n"
     ]
    }
   ],
   "source": [
    "while True:\n",
    "    response = input(\"Type 'exit' to quit: \")\n",
    "    if response == 'exit':\n",
    "        break\n"
   ]
  },
  {
   "cell_type": "markdown",
   "metadata": {
    "id": "xoaQGBfo6NQ3"
   },
   "source": [
    "While Loop with an Else Clause"
   ]
  },
  {
   "cell_type": "code",
   "execution_count": 10,
   "metadata": {
    "colab": {
     "base_uri": "https://localhost:8080/"
    },
    "id": "SlQGnohG6J6i",
    "outputId": "b345c606-7629-4547-98a2-e2684cb57780"
   },
   "outputs": [
    {
     "name": "stdout",
     "output_type": "stream",
     "text": [
      "0\n",
      "1\n",
      "2\n",
      "Loop finished.\n"
     ]
    }
   ],
   "source": [
    "count = 0\n",
    "while count < 3:\n",
    "    print(count)\n",
    "    count += 1\n",
    "else:\n",
    "    print(\"Loop finished.\")\n"
   ]
  },
  {
   "cell_type": "markdown",
   "metadata": {
    "id": "WVAot-Vr8F2U"
   },
   "source": [
    "# Large Practical Applications"
   ]
  },
  {
   "cell_type": "markdown",
   "metadata": {
    "id": "rxzeb7U98U47"
   },
   "source": [
    "Finding the Maximum Value in a List"
   ]
  },
  {
   "cell_type": "code",
   "execution_count": 11,
   "metadata": {
    "colab": {
     "base_uri": "https://localhost:8080/"
    },
    "id": "S7VYI5YD8FgG",
    "outputId": "f2efb379-3e37-4144-b8f0-7627b29e049c"
   },
   "outputs": [
    {
     "name": "stdout",
     "output_type": "stream",
     "text": [
      "The maximum value is: 9\n"
     ]
    }
   ],
   "source": [
    "numbers = [3, 5, 2, 8, 1, 9, 4]\n",
    "max_value = numbers[0]\n",
    "\n",
    "for number in numbers:\n",
    "    if number > max_value:\n",
    "        max_value = number\n",
    "\n",
    "print(\"The maximum value is:\", max_value)"
   ]
  },
  {
   "cell_type": "markdown",
   "metadata": {
    "id": "EQPvgXIX8X87"
   },
   "source": [
    "Counting Vowels in a String"
   ]
  },
  {
   "cell_type": "code",
   "execution_count": 12,
   "metadata": {
    "colab": {
     "base_uri": "https://localhost:8080/"
    },
    "id": "VOcN0zx88X1P",
    "outputId": "ac55e7f5-2d99-4d25-b071-43b6e5e762a7"
   },
   "outputs": [
    {
     "name": "stdout",
     "output_type": "stream",
     "text": [
      "Number of vowels: 7\n"
     ]
    }
   ],
   "source": [
    "text = \"Hello, how are you?\"\n",
    "vowel_count = 0\n",
    "\n",
    "for char in text:\n",
    "    if char.lower() in 'aeiou':\n",
    "        vowel_count += 1\n",
    "\n",
    "print(\"Number of vowels:\", vowel_count)\n"
   ]
  },
  {
   "cell_type": "markdown",
   "metadata": {
    "id": "W_m3FN138bJP"
   },
   "source": [
    "Finding Prime Numbers within a Range"
   ]
  },
  {
   "cell_type": "code",
   "execution_count": 13,
   "metadata": {
    "colab": {
     "base_uri": "https://localhost:8080/"
    },
    "id": "6vQWGtkr8V20",
    "outputId": "cc732248-0f9f-4791-8dc4-76b340c719bd"
   },
   "outputs": [
    {
     "name": "stdout",
     "output_type": "stream",
     "text": [
      "11 is a prime number\n",
      "13 is a prime number\n",
      "17 is a prime number\n",
      "19 is a prime number\n"
     ]
    }
   ],
   "source": [
    "start = 10\n",
    "end = 20\n",
    "\n",
    "for num in range(start, end + 1):\n",
    "    if num > 1:\n",
    "        for i in range(2, num):\n",
    "            if num % i == 0:\n",
    "                break\n",
    "        else:\n",
    "            print(num, \"is a prime number\")\n"
   ]
  },
  {
   "cell_type": "markdown",
   "metadata": {
    "id": "fRMwGNG_8d-U"
   },
   "source": [
    "Generating a Fibonacci Sequence"
   ]
  },
  {
   "cell_type": "code",
   "execution_count": 14,
   "metadata": {
    "colab": {
     "base_uri": "https://localhost:8080/"
    },
    "id": "ojdGxHl18cNk",
    "outputId": "3ac321e7-9a63-4843-8f23-5e739b650f77"
   },
   "outputs": [
    {
     "name": "stdout",
     "output_type": "stream",
     "text": [
      "Fibonacci sequence: [0, 1, 1, 2, 3, 5, 8, 13, 21, 34]\n"
     ]
    }
   ],
   "source": [
    "n = 10\n",
    "a, b = 0, 1\n",
    "fibonacci_sequence = []\n",
    "\n",
    "while len(fibonacci_sequence) < n:\n",
    "    fibonacci_sequence.append(a)\n",
    "    a, b = b, a + b\n",
    "\n",
    "print(\"Fibonacci sequence:\", fibonacci_sequence)\n"
   ]
  },
  {
   "cell_type": "markdown",
   "metadata": {
    "id": "qq_4UdQX8hku"
   },
   "source": [
    "Simulating a Basic ATM Withdrawal"
   ]
  },
  {
   "cell_type": "code",
   "execution_count": 15,
   "metadata": {
    "colab": {
     "base_uri": "https://localhost:8080/"
    },
    "id": "t-rblboO8fvU",
    "outputId": "855e4b3b-392a-4310-fb69-f69b41b46738"
   },
   "outputs": [
    {
     "name": "stdout",
     "output_type": "stream",
     "text": [
      "Enter amount to withdraw: 512\n",
      "Withdrawal successful. Remaining balance: 488\n",
      "Enter amount to withdraw: 400\n",
      "Withdrawal successful. Remaining balance: 88\n",
      "Enter amount to withdraw: 88\n",
      "Withdrawal successful. Remaining balance: 0\n",
      "Balance is zero. Exiting.\n"
     ]
    }
   ],
   "source": [
    "balance = 1000\n",
    "\n",
    "while balance > 0:\n",
    "    withdrawal = int(input(\"Enter amount to withdraw: \"))\n",
    "    if withdrawal <= balance:\n",
    "        balance -= withdrawal\n",
    "        print(\"Withdrawal successful. Remaining balance:\", balance)\n",
    "    else:\n",
    "        print(\"Insufficient balance.\")\n",
    "    if balance == 0:\n",
    "        print(\"Balance is zero. Exiting.\")\n",
    "        break\n"
   ]
  },
  {
   "cell_type": "markdown",
   "metadata": {
    "id": "q5tUgr588ph5"
   },
   "source": [
    "Finding Common Elements in Two Lists"
   ]
  },
  {
   "cell_type": "code",
   "execution_count": 16,
   "metadata": {
    "colab": {
     "base_uri": "https://localhost:8080/"
    },
    "id": "xClY-xV48iyT",
    "outputId": "10796ec6-7373-4103-9dd5-75fd70d93b2e"
   },
   "outputs": [
    {
     "name": "stdout",
     "output_type": "stream",
     "text": [
      "Common elements: [4, 5]\n"
     ]
    }
   ],
   "source": [
    "list1 = [1, 2, 3, 4, 5]\n",
    "list2 = [4, 5, 6, 7, 8]\n",
    "common_elements = []\n",
    "\n",
    "for item in list1:\n",
    "    if item in list2:\n",
    "        common_elements.append(item)\n",
    "\n",
    "print(\"Common elements:\", common_elements)\n"
   ]
  },
  {
   "cell_type": "markdown",
   "metadata": {
    "id": "iUcFVt0-8sKw"
   },
   "source": [
    "Calculating Factorial of a Number"
   ]
  },
  {
   "cell_type": "code",
   "execution_count": 17,
   "metadata": {
    "colab": {
     "base_uri": "https://localhost:8080/"
    },
    "id": "HdX2D3qB8qy8",
    "outputId": "7168b5df-81be-4086-f33e-2fb726e3b1b5"
   },
   "outputs": [
    {
     "name": "stdout",
     "output_type": "stream",
     "text": [
      "Factorial of 5 is 120\n"
     ]
    }
   ],
   "source": [
    "num = 5\n",
    "factorial = 1\n",
    "\n",
    "for i in range(1, num + 1):\n",
    "    factorial *= i\n",
    "\n",
    "print(\"Factorial of\", num, \"is\", factorial)\n"
   ]
  },
  {
   "cell_type": "markdown",
   "metadata": {
    "id": "EZBYYxRR8ucZ"
   },
   "source": [
    "Validating User Input with While Loop"
   ]
  },
  {
   "cell_type": "code",
   "execution_count": 18,
   "metadata": {
    "colab": {
     "base_uri": "https://localhost:8080/"
    },
    "id": "7ZI-OSdy8tJN",
    "outputId": "bb8648f9-bffd-4b3c-85cb-0544b35004ca"
   },
   "outputs": [
    {
     "name": "stdout",
     "output_type": "stream",
     "text": [
      "Enter a number greater than 10: 15\n",
      "Thank you!\n"
     ]
    }
   ],
   "source": [
    "while True:\n",
    "    user_input = input(\"Enter a number greater than 10: \")\n",
    "    if user_input.isdigit() and int(user_input) > 10:\n",
    "        print(\"Thank you!\")\n",
    "        break\n",
    "    else:\n",
    "        print(\"Invalid input. Please try again.\")\n"
   ]
  },
  {
   "cell_type": "markdown",
   "metadata": {
    "id": "hBepD0YT8yuj"
   },
   "source": [
    "Finding the Sum of Digits of a Number"
   ]
  },
  {
   "cell_type": "code",
   "execution_count": 19,
   "metadata": {
    "colab": {
     "base_uri": "https://localhost:8080/"
    },
    "id": "5c-dhKXI8vm9",
    "outputId": "1af6bce6-6495-43d8-975f-990db2d2d171"
   },
   "outputs": [
    {
     "name": "stdout",
     "output_type": "stream",
     "text": [
      "Sum of digits: 10\n"
     ]
    }
   ],
   "source": [
    "number = 1234\n",
    "sum_of_digits = 0\n",
    "\n",
    "while number > 0:\n",
    "    digit = number % 10\n",
    "    sum_of_digits += digit\n",
    "    number //= 10\n",
    "\n",
    "print(\"Sum of digits:\", sum_of_digits)\n"
   ]
  },
  {
   "cell_type": "markdown",
   "metadata": {
    "id": "ntjLb-5C82I1"
   },
   "source": [
    "Drawing a Simple Pattern Using Loops"
   ]
  },
  {
   "cell_type": "code",
   "execution_count": 22,
   "metadata": {
    "colab": {
     "base_uri": "https://localhost:8080/"
    },
    "id": "whDy6xMo8z7Q",
    "outputId": "8866b462-c8b5-472c-a24b-f597e3f3d48b"
   },
   "outputs": [
    {
     "name": "stdout",
     "output_type": "stream",
     "text": [
      "* \n",
      "* * \n",
      "* * * \n",
      "* * * * \n",
      "* * * * * \n"
     ]
    }
   ],
   "source": [
    "rows = 5\n",
    "\n",
    "for i in range(1, rows + 1):\n",
    "    for j in range(1, i + 1):\n",
    "        print(\"*\", end=\" \")\n",
    "    print(\"\")\n"
   ]
  },
  {
   "cell_type": "markdown",
   "metadata": {
    "id": "83tfWnxq-aXp"
   },
   "source": [
    "Checking for Palindrome Strings"
   ]
  },
  {
   "cell_type": "code",
   "execution_count": 23,
   "metadata": {
    "colab": {
     "base_uri": "https://localhost:8080/"
    },
    "id": "lDvBiPFd-art",
    "outputId": "e933c041-6f24-4e57-f831-27e54c027e97"
   },
   "outputs": [
    {
     "name": "stdout",
     "output_type": "stream",
     "text": [
      "madam is a palindrome.\n"
     ]
    }
   ],
   "source": [
    "word = \"madam\"\n",
    "is_palindrome = True\n",
    "\n",
    "for i in range(len(word) // 2):\n",
    "    if word[i] != word[-(i + 1)]:\n",
    "        is_palindrome = False\n",
    "        break\n",
    "\n",
    "if is_palindrome:\n",
    "    print(f\"{word} is a palindrome.\")\n",
    "else:\n",
    "    print(f\"{word} is not a palindrome.\")\n"
   ]
  },
  {
   "cell_type": "markdown",
   "metadata": {
    "id": "nqPKKvMB-dv1"
   },
   "source": [
    "Creating a Dictionary from Two Lists"
   ]
  },
  {
   "cell_type": "code",
   "execution_count": 24,
   "metadata": {
    "colab": {
     "base_uri": "https://localhost:8080/"
    },
    "id": "5QZS1hEl-bgX",
    "outputId": "14205399-c518-4f9c-9b4d-cd9c2520822b"
   },
   "outputs": [
    {
     "name": "stdout",
     "output_type": "stream",
     "text": [
      "{'name': 'Alice', 'age': 30, 'location': 'New York'}\n"
     ]
    }
   ],
   "source": [
    "keys = [\"name\", \"age\", \"location\"]\n",
    "values = [\"Alice\", 30, \"New York\"]\n",
    "dictionary = {}\n",
    "\n",
    "for i in range(len(keys)):\n",
    "    dictionary[keys[i]] = values[i]\n",
    "\n",
    "print(dictionary)\n"
   ]
  },
  {
   "cell_type": "markdown",
   "metadata": {
    "id": "eJBsRqgD-gPE"
   },
   "source": [
    "Simulating a Simple Password Check"
   ]
  },
  {
   "cell_type": "code",
   "execution_count": 25,
   "metadata": {
    "colab": {
     "base_uri": "https://localhost:8080/"
    },
    "id": "E1Y7Tp4I-evd",
    "outputId": "62d94df4-fc6e-4a67-8645-f522c1fe0914"
   },
   "outputs": [
    {
     "name": "stdout",
     "output_type": "stream",
     "text": [
      "Enter your password: fs5fs44\n",
      "Incorrect password. You have 2 attempts left.\n",
      "Enter your password: fsfsf15\n",
      "Incorrect password. You have 1 attempts left.\n",
      "Enter your password: python123\n",
      "Access granted.\n"
     ]
    }
   ],
   "source": [
    "correct_password = \"python123\"\n",
    "attempts = 3\n",
    "\n",
    "while attempts > 0:\n",
    "    password = input(\"Enter your password: \")\n",
    "    if password == correct_password:\n",
    "        print(\"Access granted.\")\n",
    "        break\n",
    "    else:\n",
    "        attempts -= 1\n",
    "        print(f\"Incorrect password. You have {attempts} attempts left.\")\n",
    "else:\n",
    "    print(\"Access denied. You have used all attempts.\")\n"
   ]
  },
  {
   "cell_type": "markdown",
   "metadata": {
    "id": "2IrySZdJ-qR3"
   },
   "source": [
    "Generating a Multiplication Table for a Given Number"
   ]
  },
  {
   "cell_type": "code",
   "execution_count": 26,
   "metadata": {
    "colab": {
     "base_uri": "https://localhost:8080/"
    },
    "id": "PkU2iCFc-hQW",
    "outputId": "fb25bdc6-f0a9-42a0-d9ec-06450c747f02"
   },
   "outputs": [
    {
     "name": "stdout",
     "output_type": "stream",
     "text": [
      "7 x 1 = 7\n",
      "7 x 2 = 14\n",
      "7 x 3 = 21\n",
      "7 x 4 = 28\n",
      "7 x 5 = 35\n",
      "7 x 6 = 42\n",
      "7 x 7 = 49\n",
      "7 x 8 = 56\n",
      "7 x 9 = 63\n",
      "7 x 10 = 70\n"
     ]
    }
   ],
   "source": [
    "number = 7\n",
    "limit = 10\n",
    "\n",
    "for i in range(1, limit + 1):\n",
    "    print(f\"{number} x {i} = {number * i}\")\n"
   ]
  },
  {
   "cell_type": "code",
   "execution_count": 26,
   "metadata": {
    "colab": {
     "base_uri": "https://localhost:8080/"
    },
    "id": "PkU2iCFc-hQW",
    "outputId": "fb25bdc6-f0a9-42a0-d9ec-06450c747f02"
   },
   "outputs": [
    {
     "name": "stdout",
     "output_type": "stream",
     "text": [
      "7 x 1 = 7\n",
      "7 x 2 = 14\n",
      "7 x 3 = 21\n",
      "7 x 4 = 28\n",
      "7 x 5 = 35\n",
      "7 x 6 = 42\n",
      "7 x 7 = 49\n",
      "7 x 8 = 56\n",
      "7 x 9 = 63\n",
      "7 x 10 = 70\n"
     ]
    }
   ],
   "source": [
    "number = 7\n",
    "limit = 10\n",
    "\n",
    "for i in range(1, limit + 1):\n",
    "    print(f\"{number} x {i} = {number * i}\")\n"
   ]
  },
  {
   "cell_type": "code",
   "execution_count": 26,
   "metadata": {
    "colab": {
     "base_uri": "https://localhost:8080/"
    },
    "id": "PkU2iCFc-hQW",
    "outputId": "fb25bdc6-f0a9-42a0-d9ec-06450c747f02"
   },
   "outputs": [
    {
     "name": "stdout",
     "output_type": "stream",
     "text": [
      "7 x 1 = 7\n",
      "7 x 2 = 14\n",
      "7 x 3 = 21\n",
      "7 x 4 = 28\n",
      "7 x 5 = 35\n",
      "7 x 6 = 42\n",
      "7 x 7 = 49\n",
      "7 x 8 = 56\n",
      "7 x 9 = 63\n",
      "7 x 10 = 70\n"
     ]
    }
   ],
   "source": [
    "number = 7\n",
    "limit = 10\n",
    "\n",
    "for i in range(1, limit + 1):\n",
    "    print(f\"{number} x {i} = {number * i}\")\n"
   ]
  },
  {
   "cell_type": "code",
   "execution_count": 2,
   "metadata": {},
   "outputs": [
    {
     "name": "stdout",
     "output_type": "stream",
     "text": [
      "[1505, 1540, 1575, 1610, 1645, 1680, 1715, 1750, 1785, 1820, 1855, 1890, 1925, 1960, 1995, 2030, 2065, 2100, 2135, 2170, 2205, 2240, 2275, 2310, 2345, 2380, 2415, 2450, 2485, 2520, 2555, 2590, 2625, 2660, 2695]\n"
     ]
    }
   ],
   "source": [
    "epList=[]\n",
    "for j in range(1500,2701):\n",
    "    if j%7==0 and j%5==0:\n",
    "        epList.append(j)\n",
    "print(epList)"
   ]
  },
  {
   "cell_type": "code",
   "execution_count": 4,
   "metadata": {},
   "outputs": [
    {
     "name": "stdout",
     "output_type": "stream",
     "text": [
      "even Count 4\n",
      "odd Count 5\n"
     ]
    }
   ],
   "source": [
    "num=[1,2,3,4,5,6,7,8,9]\n",
    "Ecounter=0\n",
    "Ocounter=0\n",
    "for j in num:\n",
    "    if j%2==0:\n",
    "        Ecounter+=1\n",
    "    else:\n",
    "        Ocounter+=1\n",
    "print(\"even Count\",Ecounter)\n",
    "print(\"odd Count\",Ocounter)\n"
   ]
  },
  {
   "cell_type": "code",
   "execution_count": null,
   "metadata": {},
   "outputs": [],
   "source": []
  }
 ],
 "metadata": {
  "colab": {
   "collapsed_sections": [
    "JIX9shev5qME",
    "8FdTMZd45kyk",
    "Y1vNwmhg5_L3",
    "WVAot-Vr8F2U"
   ],
   "provenance": []
  },
  "kernelspec": {
   "display_name": "Python 3 (ipykernel)",
   "language": "python",
   "name": "python3"
  },
  "language_info": {
   "codemirror_mode": {
    "name": "ipython",
    "version": 3
   },
   "file_extension": ".py",
   "mimetype": "text/x-python",
   "name": "python",
   "nbconvert_exporter": "python",
   "pygments_lexer": "ipython3",
   "version": "3.12.7"
  }
 },
 "nbformat": 4,
 "nbformat_minor": 4
}
