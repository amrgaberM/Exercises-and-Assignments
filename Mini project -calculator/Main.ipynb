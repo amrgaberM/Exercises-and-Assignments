{
 "cells": [
  {
   "cell_type": "code",
   "execution_count": 6,
   "id": "fc025574-f07e-4049-9271-1c378f7d39b0",
   "metadata": {},
   "outputs": [],
   "source": [
    "import script_calc as c"
   ]
  },
  {
   "cell_type": "code",
   "execution_count": 20,
   "id": "736b4ce7-cd89-498c-99ef-87706a74e0be",
   "metadata": {},
   "outputs": [
    {
     "name": "stdin",
     "output_type": "stream",
     "text": [
      "enter the command you want add / sub / mult / div: mult\n",
      "enter your first number: 5\n",
      "enter your second number: 5\n"
     ]
    },
    {
     "name": "stdout",
     "output_type": "stream",
     "text": [
      "your calculation is 5 * 5 = 25\n"
     ]
    },
    {
     "name": "stdin",
     "output_type": "stream",
     "text": [
      "Do you want to make more calculations / send Stop to execute the program: yes\n",
      "enter the command you want add / sub / mult / div: div\n",
      "enter your first number: 20\n",
      "enter your second number: 2\n"
     ]
    },
    {
     "name": "stdout",
     "output_type": "stream",
     "text": [
      "your calculation is 20 / 2 = 10.0\n"
     ]
    },
    {
     "name": "stdin",
     "output_type": "stream",
     "text": [
      "Do you want to make more calculations / send Stop to execute the program: yes\n",
      "enter the command you want add / sub / mult / div: sub\n",
      "enter your first number: 100\n",
      "enter your second number: 500\n"
     ]
    },
    {
     "name": "stdout",
     "output_type": "stream",
     "text": [
      "your calculation is 100 - 500 = -400\n"
     ]
    },
    {
     "name": "stdin",
     "output_type": "stream",
     "text": [
      "Do you want to make more calculations / send Stop to execute the program: stop\n"
     ]
    }
   ],
   "source": [
    "command=input(\"enter the command you want add / sub / mult / div:\")\n",
    "num1=int(input(\"enter your first number:\"))\n",
    "num2=int(input(\"enter your second number:\"))\n",
    "if command == \"add\":\n",
    "    print(\"your calculation is\", num1 ,\"+\",num2,\"=\", c.add(num1,num2))\n",
    "if command == \"sub\":\n",
    "    print(\"your calculation is\", num1 ,\"-\",num2,\"=\", c.sub(num1,num2))\n",
    "if command == \"mult\":\n",
    "    print(\"your calculation is\", num1 ,\"*\",num2,\"=\", c.mult(num1,num2))\n",
    "if command == \"div\":\n",
    "    print(\"your calculation is\", num1 ,\"/\",num2,\"=\", c.div(num1,num2))\n",
    "operation=input(\"Do you want to make more calculations / send Stop to execute the program:\")\n",
    "while operation != \"stop\" :\n",
    "    command=input(\"enter the command you want add / sub / mult / div:\")\n",
    "    num1=int(input(\"enter your first number:\"))\n",
    "    num2=int(input(\"enter your second number:\"))\n",
    "    if command == \"add\":\n",
    "          print(\"your calculation is\", num1 ,\"+\",num2,\"=\", c.add(num1,num2))\n",
    "    if command == \"sub\":\n",
    "          print(\"your calculation is\", num1 ,\"-\",num2,\"=\", c.sub(num1,num2))\n",
    "    if command == \"mult\":\n",
    "          print(\"your calculation is\", num1 ,\"*\",num2,\"=\", c.mult(num1,num2))\n",
    "    if command == \"div\":\n",
    "          print(\"your calculation is\", num1 ,\"/\",num2,\"=\", c.div(num1,num2))\n",
    "    operation=input(\"Do you want to make more calculations / send Stop to execute the program:\")\n",
    "        \n",
    "\n",
    "    "
   ]
  },
  {
   "cell_type": "code",
   "execution_count": null,
   "id": "a193c097-f9c5-426c-a033-59e49e5d48fe",
   "metadata": {},
   "outputs": [],
   "source": []
  }
 ],
 "metadata": {
  "kernelspec": {
   "display_name": "Python 3 (ipykernel)",
   "language": "python",
   "name": "python3"
  },
  "language_info": {
   "codemirror_mode": {
    "name": "ipython",
    "version": 3
   },
   "file_extension": ".py",
   "mimetype": "text/x-python",
   "name": "python",
   "nbconvert_exporter": "python",
   "pygments_lexer": "ipython3",
   "version": "3.12.7"
  }
 },
 "nbformat": 4,
 "nbformat_minor": 5
}
