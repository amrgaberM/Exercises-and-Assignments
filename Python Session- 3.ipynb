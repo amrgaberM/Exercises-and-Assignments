{
 "cells": [
  {
   "cell_type": "markdown",
   "id": "e1aa6fd3",
   "metadata": {},
   "source": [
    "# Python Sessions with DEPI - session 3"
   ]
  },
  {
   "cell_type": "markdown",
   "id": "c551e8c8",
   "metadata": {},
   "source": [
    "### Defining a Function"
   ]
  },
  {
   "cell_type": "code",
   "execution_count": 2,
   "id": "cec5ef10-03fa-4398-9cec-68057f8222d2",
   "metadata": {
    "tags": []
   },
   "outputs": [
    {
     "name": "stdout",
     "output_type": "stream",
     "text": [
      "100\n"
     ]
    }
   ],
   "source": [
    "print(100)\n"
   ]
  },
  {
   "cell_type": "code",
   "execution_count": 4,
   "id": "be51f265",
   "metadata": {
    "tags": []
   },
   "outputs": [
    {
     "name": "stdout",
     "output_type": "stream",
     "text": [
      "Hello!\n",
      "Hello!\n",
      "Hello!\n"
     ]
    }
   ],
   "source": [
    "# function definition. \n",
    "def say_Hello():\n",
    "   \n",
    "   print(\"Hello!\")\n",
    "   print(\"Hello!\")\n",
    "   print(\"Hello!\")\n",
    "\n",
    "# function call\n",
    "say_Hello()"
   ]
  },
  {
   "cell_type": "code",
   "execution_count": 6,
   "id": "adba1f18",
   "metadata": {
    "tags": []
   },
   "outputs": [
    {
     "name": "stdout",
     "output_type": "stream",
     "text": [
      "Hello, Ahmed!\n"
     ]
    }
   ],
   "source": [
    "# Passing Information to a Function\n",
    "def say_Hello(username):\n",
    "   \"\"\"Display a simple greeting.\"\"\"\n",
    "   print(f\"Hello, {username.title()}!\") \n",
    "\n",
    "say_Hello('ahmed') ##print hello \"param\""
   ]
  },
  {
   "cell_type": "markdown",
   "id": "f2a10661",
   "metadata": {},
   "source": [
    "### Arguments and Parameters\n",
    "The variable username in the definition of say_Hello() is an example of a\n",
    "**parameter**, a piece of information the function needs to do its job. \n",
    "The **value 'ahmed' in say_Hello('ahmed') is an example of an argument**. \n",
    "An argument is a piece of information that’s passed from a function call to a function.\n"
   ]
  },
  {
   "cell_type": "code",
   "execution_count": 9,
   "id": "d16d0e83",
   "metadata": {
    "tags": []
   },
   "outputs": [
    {
     "name": "stdout",
     "output_type": "stream",
     "text": [
      "\n",
      "I have a dog.\n",
      "My dog's name is Harry.\n"
     ]
    }
   ],
   "source": [
    "# Positional Arguments\n",
    "\n",
    "def describe_pet(animal_type, pet_name):\n",
    "   \n",
    "   print(f\"\\nI have a {animal_type}.\")\n",
    "   print(f\"My {animal_type}'s name is {pet_name.title()}.\")\n",
    "\n",
    "describe_pet('dog', 'harry')\n"
   ]
  },
  {
   "cell_type": "code",
   "execution_count": 11,
   "id": "cc27acaf",
   "metadata": {
    "tags": []
   },
   "outputs": [
    {
     "name": "stdout",
     "output_type": "stream",
     "text": [
      "\n",
      "I have a dog.\n",
      "My dog's name is Harry.\n",
      "\n",
      "I have a cat.\n",
      "My cat's name is Lilly.\n",
      "\n",
      "I have a dog.\n",
      "My dog's name is Max.\n"
     ]
    }
   ],
   "source": [
    "# Multiple Function Calls\n",
    "\n",
    "describe_pet('dog', 'harry')\n",
    "describe_pet('cat', 'lilly')\n",
    "describe_pet('dog', 'max')"
   ]
  },
  {
   "cell_type": "code",
   "execution_count": 13,
   "id": "f464ff7c",
   "metadata": {
    "tags": []
   },
   "outputs": [
    {
     "name": "stdout",
     "output_type": "stream",
     "text": [
      "\n",
      "I have a max.\n",
      "My max's name is Dog.\n"
     ]
    }
   ],
   "source": [
    "#Order Matters in Positional Arguments\n",
    "describe_pet('max','dog')\n"
   ]
  },
  {
   "cell_type": "code",
   "execution_count": 15,
   "id": "20f75bb2",
   "metadata": {
    "tags": []
   },
   "outputs": [
    {
     "name": "stdout",
     "output_type": "stream",
     "text": [
      "\n",
      "I have a dog.\n",
      "My dog's name is Max.\n",
      "\n",
      "I have a dog.\n",
      "My dog's name is Max.\n"
     ]
    }
   ],
   "source": [
    "# Keyword Arguments\n",
    "def describe_pet(animal_type, pet_name):\n",
    "   \"\"\"Display information about a pet.\"\"\"\n",
    "   print(f\"\\nI have a {animal_type}.\")\n",
    "   print(f\"My {animal_type}'s name is {pet_name.title()}.\")\n",
    "   \n",
    "\n",
    "describe_pet(animal_type='dog', pet_name='max')\n",
    "# or\n",
    "describe_pet( pet_name='max', animal_type='dog')\n"
   ]
  },
  {
   "cell_type": "code",
   "execution_count": 17,
   "id": "cf5850fe",
   "metadata": {
    "tags": []
   },
   "outputs": [
    {
     "name": "stdout",
     "output_type": "stream",
     "text": [
      "\n",
      "your name is: Mahmoud Hassan.\n",
      "phone : 2515151\n",
      "Age : 20\n",
      "Address : Egypt\n"
     ]
    }
   ],
   "source": [
    "# Quiz \n",
    "\n",
    "def about_user(user_name, phone,age,address):\n",
    "   print(f\"\\nyour name is: {user_name.title()}.\")\n",
    "   print(f\"phone : {phone}\")\n",
    "   print(f\"Age : {age}\")\n",
    "   print(f\"Address : {address.title()}\")\n",
    "\n",
    "about_user(user_name='mahmoud hassan', phone='2515151', age=20, address='egypt' )"
   ]
  },
  {
   "cell_type": "code",
   "execution_count": 19,
   "id": "12715b78",
   "metadata": {
    "tags": []
   },
   "outputs": [
    {
     "name": "stdout",
     "output_type": "stream",
     "text": [
      "\n",
      "your name is: Mahmoud Hassan.\n",
      "phone : 01054488544155\n",
      "Age : 20\n",
      "Address : USA\n"
     ]
    }
   ],
   "source": [
    "# Default Values\n",
    "def about_user(user_name, phone,age,address='Egypt'):\n",
    "   print(f\"\\nyour name is: {user_name.title()}.\")\n",
    "   print(f\"phone : {phone}\")\n",
    "   print(f\"Age : {age}\")\n",
    "   print(f\"Address : {address.upper()}\")\n",
    "\n",
    "about_user(user_name='mahmoud hassan', phone='01054488544155', age=20, address=\"USA\")"
   ]
  },
  {
   "cell_type": "code",
   "execution_count": 21,
   "id": "0a2c2c92",
   "metadata": {
    "tags": []
   },
   "outputs": [
    {
     "name": "stdout",
     "output_type": "stream",
     "text": [
      "\n",
      "your name is: Ali.\n",
      "phone : 6516516\n",
      "Age : 20\n",
      "Address : Egypt\n"
     ]
    }
   ],
   "source": [
    "#OR\n",
    "\n",
    "def about_user(user_name, phone='6516516',age=20,address='Egypt'):\n",
    "   print(f\"\\nyour name is: {user_name.title()}.\")\n",
    "   print(f\"phone : {phone}\")\n",
    "   print(f\"Age : {age}\")\n",
    "   print(f\"Address : {address.title()}\")\n",
    "\n",
    "about_user('ali')\n"
   ]
  },
  {
   "cell_type": "code",
   "execution_count": 23,
   "id": "198c7db8-efb9-4dd2-b025-392e03f5be1d",
   "metadata": {
    "tags": []
   },
   "outputs": [
    {
     "name": "stdout",
     "output_type": "stream",
     "text": [
      "Ali Hassan\n",
      "None\n"
     ]
    }
   ],
   "source": [
    "def get_name(first_name, last_name):\n",
    "   \n",
    "   full_name = f\"{first_name} {last_name}\"\n",
    "   \n",
    "   print(full_name.title())\n",
    "    \n",
    "x= get_name('ali', 'hassan')\n",
    "print(x)\n"
   ]
  },
  {
   "cell_type": "code",
   "execution_count": 25,
   "id": "c911e100",
   "metadata": {
    "tags": []
   },
   "outputs": [
    {
     "name": "stdout",
     "output_type": "stream",
     "text": [
      "Ali Hassan\n"
     ]
    }
   ],
   "source": [
    "# Return Values\n",
    "\n",
    "def get_name(first_name, last_name):\n",
    "   \n",
    "   full_name = f\"{first_name} {last_name}\"\n",
    "   \n",
    "   return full_name.title()\n",
    "\n",
    "name_from_function = get_name('ali', 'hassan')\n",
    "print(name_from_function)\n"
   ]
  },
  {
   "cell_type": "code",
   "execution_count": 27,
   "id": "ecb24abe",
   "metadata": {
    "tags": []
   },
   "outputs": [
    {
     "data": {
      "text/plain": [
       "'Ola Hassan'"
      ]
     },
     "execution_count": 27,
     "metadata": {},
     "output_type": "execute_result"
    }
   ],
   "source": [
    "name_from_function_2 = get_name('ola', 'hassan')\n",
    "name_from_function_2"
   ]
  },
  {
   "cell_type": "code",
   "execution_count": 29,
   "id": "951a7ab9",
   "metadata": {
    "tags": []
   },
   "outputs": [
    {
     "name": "stdout",
     "output_type": "stream",
     "text": [
      "30\n",
      "None\n"
     ]
    }
   ],
   "source": [
    "def abc(num1, num2):\n",
    "    number = num1 + num2\n",
    "    print(number)\n",
    "    #return number\n",
    "\n",
    "    \n",
    "a = abc(10, 20)    \n",
    "print(a)"
   ]
  },
  {
   "cell_type": "markdown",
   "id": "9742439f-d710-4bb7-89ef-245ff10723f7",
   "metadata": {
    "collapsed": true,
    "jupyter": {
     "outputs_hidden": true
    }
   },
   "source": [
    "### Quiz:\n",
    "### Write a function that takes the username as input from the user, and returns (Hello, \"UserName\")"
   ]
  },
  {
   "cell_type": "code",
   "execution_count": 32,
   "id": "39fdd592-d41c-487e-9144-227a8e18f842",
   "metadata": {},
   "outputs": [
    {
     "name": "stdin",
     "output_type": "stream",
     "text": [
      "enter your name: amr\n"
     ]
    },
    {
     "name": "stdout",
     "output_type": "stream",
     "text": [
      "hello amr\n"
     ]
    }
   ],
   "source": [
    "def greet(username):\n",
    "    print(\"hello\",username)\n",
    "userinput=input(\"enter your name:\")\n",
    "greet(userinput)\n"
   ]
  },
  {
   "cell_type": "code",
   "execution_count": 34,
   "id": "00575cc5-63b1-4eb2-95d1-e1dba320c26c",
   "metadata": {},
   "outputs": [
    {
     "name": "stdin",
     "output_type": "stream",
     "text": [
      "Enter your name:  amr\n"
     ]
    },
    {
     "name": "stdout",
     "output_type": "stream",
     "text": [
      "Hello amr\n"
     ]
    }
   ],
   "source": [
    "def greet():\n",
    "    username = input(\"Enter your name: \")\n",
    "    if username == \"\":\n",
    "        username = \"Guest\"\n",
    "    print(\"Hello \" + username )\n",
    "\n",
    "greet()\n"
   ]
  },
  {
   "cell_type": "code",
   "execution_count": 36,
   "id": "b93bbbe4-b032-4cae-9b9c-0a9b6d5f0ae8",
   "metadata": {},
   "outputs": [
    {
     "name": "stdout",
     "output_type": "stream",
     "text": [
      "(50, 30)\n"
     ]
    }
   ],
   "source": [
    "def calc(a,b):\n",
    "    \n",
    "    summ=a+b\n",
    "    sub=a-b\n",
    "    return summ,sub\n",
    "res=calc(40,10)\n",
    "print(res)"
   ]
  },
  {
   "cell_type": "code",
   "execution_count": 38,
   "id": "ce600fa1-aadf-42a0-86df-4361b0fc237f",
   "metadata": {},
   "outputs": [
    {
     "name": "stdout",
     "output_type": "stream",
     "text": [
      "name:ben salary:  12000\n",
      "name:jessa salary:  9000\n"
     ]
    }
   ],
   "source": [
    "def showEmployer(name,salary=9000):\n",
    "    print(\"name:\"+name+\" salary: \",salary)\n",
    "showEmployer(\"ben\",12000)\n",
    "showEmployer(\"jessa\")"
   ]
  },
  {
   "cell_type": "markdown",
   "id": "2d668d1b",
   "metadata": {},
   "source": [
    "### Quiz \n",
    "Passing a List\n",
    "\n",
    "\n",
    "Print this output by passing a list of names to a function called say_hello_username()\n",
    "\n",
    "\n",
    "Hello, Ali!\n",
    "\n",
    "Hello, Samy!\n",
    "    \n",
    "Hello, Mahmoud!\n"
   ]
  },
  {
   "cell_type": "code",
   "execution_count": 41,
   "id": "d89fd665",
   "metadata": {
    "tags": []
   },
   "outputs": [
    {
     "name": "stdout",
     "output_type": "stream",
     "text": [
      "Hello, Ali!\n",
      "Hello, Samy!\n",
      "Hello, Mahmoud!\n"
     ]
    }
   ],
   "source": [
    "#solution\n",
    "def say_hello_username(names):\n",
    "   \"\"\"Print a simple greeting to each user in the list.\"\"\"\n",
    "   for name in names:\n",
    "       msg = f\"Hello, {name.title()}!\"\n",
    "       print(msg)\n",
    "\n",
    "usernames = ['ali', 'samy', 'mahmoud']\n",
    "say_hello_username(usernames)\n"
   ]
  },
  {
   "cell_type": "code",
   "execution_count": 43,
   "id": "5ac04153",
   "metadata": {},
   "outputs": [],
   "source": [
    "# Storing Your Functions in Modules\n",
    "# test.py\n",
    "\n",
    "def say_hello_username(names):\n",
    " \n",
    "   for name in names:\n",
    "       msg = f\"Hello, {name.title()}!\"\n",
    "       print(msg)"
   ]
  },
  {
   "cell_type": "code",
   "execution_count": 45,
   "id": "b42dea2c",
   "metadata": {},
   "outputs": [
    {
     "name": "stdout",
     "output_type": "stream",
     "text": [
      "Hello, Max!\n",
      "Hello, Samy!\n",
      "Hello, Mahmoud!\n"
     ]
    }
   ],
   "source": [
    "# say.py\n",
    "\n",
    "import test\n",
    "usernames = ['max', 'samy', 'mahmoud']\n",
    "test.say_hello_username(usernames)\n"
   ]
  },
  {
   "cell_type": "code",
   "execution_count": 47,
   "id": "dec1f543-4503-4549-99c1-15b502a11ddf",
   "metadata": {
    "scrolled": true
   },
   "outputs": [
    {
     "name": "stdout",
     "output_type": "stream",
     "text": [
      "['def say_hello_username(names):\\n', '   \"\"\"Print a simple greeting to each user in the list.\"\"\"\\n', '   for name in names:\\n', '       msg = f\"Hello, {name.title()}!\"\\n', '       print(msg)']\n"
     ]
    }
   ],
   "source": [
    "def fileR(fname):\n",
    "    with open(fname) as f:\n",
    "        contentList=f.readlines()\n",
    "        print(contentList)\n",
    "fileR(\"test.py\")"
   ]
  },
  {
   "cell_type": "code",
   "execution_count": 49,
   "id": "2f162c43-836f-4626-abd3-7cae9ebdb705",
   "metadata": {},
   "outputs": [
    {
     "name": "stdin",
     "output_type": "stream",
     "text": [
      "Enter your first name:  amr\n",
      "Enter your last name:  gaber\n",
      "Enter your gender:  male\n",
      "Enter a 3-digit ID:  111\n"
     ]
    },
    {
     "name": "stdout",
     "output_type": "stream",
     "text": [
      "User information saved to user_info.txt\n"
     ]
    }
   ],
   "source": [
    "def get_user_info():\n",
    "    first_name = input(\"Enter your first name: \")\n",
    "    last_name = input(\"Enter your last name: \")\n",
    "    gender = input(\"Enter your gender: \")\n",
    "\n",
    "    id_number = input(\"Enter a 3-digit ID: \")\n",
    "    while len(id_number) != 3 or not id_number.isdigit():\n",
    "        id_number = input(\"Please enter a valid 3-digit ID: \")\n",
    "    \n",
    "    with open(\"user_info.txt\", \"w\") as file:\n",
    "        file.write(\"First Name: \" + first_name + \"\\n\")\n",
    "        file.write(\"Last Name: \" + last_name + \"\\n\")\n",
    "        file.write(\"Gender: \" + gender + \"\\n\")\n",
    "        file.write(\"ID: \" + id_number + \"\\n\")\n",
    "    \n",
    "    print(\"User information saved to user_info.txt\")\n",
    "\n",
    "get_user_info()\n"
   ]
  },
  {
   "cell_type": "code",
   "execution_count": 59,
   "id": "681bc50a",
   "metadata": {
    "tags": []
   },
   "outputs": [],
   "source": [
    "with open('user_info.txt', 'r') as f:\n",
    "    data = f.read()"
   ]
  },
  {
   "cell_type": "markdown",
   "id": "7bdefd73",
   "metadata": {},
   "source": [
    "open() takes a filename and a mode as its arguments. r opens the file in read only mode. To write data to a file, pass in w as an argument instead:\n"
   ]
  },
  {
   "cell_type": "code",
   "execution_count": 57,
   "id": "14dee1c1",
   "metadata": {
    "tags": []
   },
   "outputs": [],
   "source": [
    "with open('data.txt', 'w') as f:\n",
    "    data = 'some data to be written to the file'\n",
    "    f.write(data)"
   ]
  },
  {
   "cell_type": "markdown",
   "id": "b5c666c0",
   "metadata": {},
   "source": [
    "# Great job!!"
   ]
  },
  {
   "cell_type": "code",
   "execution_count": null,
   "id": "9e2f045a",
   "metadata": {},
   "outputs": [],
   "source": []
  }
 ],
 "metadata": {
  "kernelspec": {
   "display_name": "Python 3 (ipykernel)",
   "language": "python",
   "name": "python3"
  },
  "language_info": {
   "codemirror_mode": {
    "name": "ipython",
    "version": 3
   },
   "file_extension": ".py",
   "mimetype": "text/x-python",
   "name": "python",
   "nbconvert_exporter": "python",
   "pygments_lexer": "ipython3",
   "version": "3.12.7"
  }
 },
 "nbformat": 4,
 "nbformat_minor": 5
}
