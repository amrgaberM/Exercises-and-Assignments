{
 "cells": [
  {
   "cell_type": "code",
   "execution_count": 8,
   "id": "e20e3f41-f5c8-41a1-bfff-c01aec8be897",
   "metadata": {},
   "outputs": [
    {
     "name": "stdin",
     "output_type": "stream",
     "text": [
      "Enter your first number:  10\n",
      "Enter your second number:  20\n"
     ]
    },
    {
     "name": "stdout",
     "output_type": "stream",
     "text": [
      "Addition: 30.0\n",
      "Subtraction: -10.0\n",
      "Multiplication: 200.0\n",
      "Division: 0.5\n"
     ]
    }
   ],
   "source": [
    "\n",
    "def calc(a, b):\n",
    "    add = a + b\n",
    "    sub = a - b\n",
    "    multi = a * b\n",
    "    div = a / b \n",
    "    if b != 0 :\n",
    "        div = a / b \n",
    "    else : \n",
    "         print(\"Cannot divide by zero\")\n",
    "    return  add, sub, multi, div\n",
    "\n",
    "n1 = float(input(\"Enter your first number: \"))\n",
    "n2 = float(input(\"Enter your second number: \"))\n",
    "\n",
    "add, sub, mul, div = calc(n1, n2)\n",
    "\n",
    "print(f\"Addition: {add}\")\n",
    "print(f\"Subtraction: {sub}\")\n",
    "print(f\"Multiplication: {mul}\")\n",
    "print(f\"Division: {div}\")\n"
   ]
  },
  {
   "cell_type": "code",
   "execution_count": null,
   "id": "d64066d5-200e-4f1c-b7bf-7d4c0d5313f0",
   "metadata": {},
   "outputs": [],
   "source": []
  }
 ],
 "metadata": {
  "kernelspec": {
   "display_name": "Python 3 (ipykernel)",
   "language": "python",
   "name": "python3"
  },
  "language_info": {
   "codemirror_mode": {
    "name": "ipython",
    "version": 3
   },
   "file_extension": ".py",
   "mimetype": "text/x-python",
   "name": "python",
   "nbconvert_exporter": "python",
   "pygments_lexer": "ipython3",
   "version": "3.12.7"
  }
 },
 "nbformat": 4,
 "nbformat_minor": 5
}
