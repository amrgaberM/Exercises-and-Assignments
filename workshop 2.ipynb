{
 "cells": [
  {
   "cell_type": "code",
   "execution_count": 8,
   "id": "e20e3f41-f5c8-41a1-bfff-c01aec8be897",
   "metadata": {},
   "outputs": [
    {
     "name": "stdin",
     "output_type": "stream",
     "text": [
      "Enter your first number:  10\n",
      "Enter your second number:  20\n"
     ]
    },
    {
     "name": "stdout",
     "output_type": "stream",
     "text": [
      "Addition: 30.0\n",
      "Subtraction: -10.0\n",
      "Multiplication: 200.0\n",
      "Division: 0.5\n"
     ]
    }
   ],
   "source": [
    "\n",
    "def calc(a, b):\n",
    "    add = a + b\n",
    "    sub = a - b\n",
    "    multi = a * b\n",
    "    div = a / b \n",
    "    if b != 0 :\n",
    "        div = a / b \n",
    "    else : \n",
    "         print(\"Cannot divide by zero\")\n",
    "    return  add, sub, multi, div\n",
    "\n",
    "n1 = float(input(\"Enter your first number: \"))\n",
    "n2 = float(input(\"Enter your second number: \"))\n",
    "\n",
    "add, sub, mul, div = calc(n1, n2)\n",
    "\n",
    "print(f\"Addition: {add}\")\n",
    "print(f\"Subtraction: {sub}\")\n",
    "print(f\"Multiplication: {mul}\")\n",
    "print(f\"Division: {div}\")\n"
   ]
  },
  {
   "cell_type": "code",
   "execution_count": 8,
   "id": "d64066d5-200e-4f1c-b7bf-7d4c0d5313f0",
   "metadata": {},
   "outputs": [
    {
     "name": "stdout",
     "output_type": "stream",
     "text": [
      "The first three elements are: [10, 20, 30]\n",
      "The last two elements are: [50, 60]\n"
     ]
    }
   ],
   "source": [
    "\n",
    "num = [10, 20, 30, 40, 50, 60]\n",
    "first_three = numbers[:3]\n",
    "last_two = numbers[-2:]\n",
    "print(\"The first three elements are:\",first_three)\n",
    "print(\"The last two elements are:\",last_two)\n"
   ]
  },
  {
   "cell_type": "code",
   "execution_count": 16,
   "id": "b657bdeb-f765-4b5e-a9dc-c3be52c6a0d1",
   "metadata": {},
   "outputs": [
    {
     "name": "stdin",
     "output_type": "stream",
     "text": [
      "Enter a string:  watch\n"
     ]
    },
    {
     "name": "stdout",
     "output_type": "stream",
     "text": [
      "All uppercase WATCH\n",
      "All lowercase: watch\n",
      "Reversed order: hctaw\n"
     ]
    }
   ],
   "source": [
    "\n",
    "theSTRING = input(\"Enter a string: \")\n",
    "uppercase = theSTRING.upper()\n",
    "lowercase = theSTRING.lower()\n",
    "revstring = theSTRING[::-1]\n",
    "print(\"All uppercase \" + uppercase)\n",
    "print(\"All lowercase: \"+ lowercase)\n",
    "print(\"Reversed order: \"+ revstring)\n"
   ]
  },
  {
   "cell_type": "code",
   "execution_count": 20,
   "id": "d941a91b-8615-4dd1-b5d8-d655a6d96d55",
   "metadata": {},
   "outputs": [
    {
     "name": "stdin",
     "output_type": "stream",
     "text": [
      "Enter a number:  7\n"
     ]
    },
    {
     "name": "stdout",
     "output_type": "stream",
     "text": [
      "number is odd.\n"
     ]
    }
   ],
   "source": [
    "\n",
    "inputt = int(input(\"Enter a number: \"))\n",
    "if inputt % 2 == 0:\n",
    "    print(\"number is even.\")\n",
    "else:\n",
    "    print(\"number is odd.\")\n"
   ]
  },
  {
   "cell_type": "code",
   "execution_count": 22,
   "id": "b11d596e-725b-4d37-b23b-d2474475b36f",
   "metadata": {},
   "outputs": [
    {
     "name": "stdout",
     "output_type": "stream",
     "text": [
      "15\n",
      "30\n",
      "45\n"
     ]
    }
   ],
   "source": [
    "for i in range(1, 51):\n",
    "    if i % 3 == 0 and i % 5 == 0:\n",
    "        print(i)\n"
   ]
  },
  {
   "cell_type": "code",
   "execution_count": 30,
   "id": "ba334be3-8f6f-4a8d-b22b-eb03517329e2",
   "metadata": {},
   "outputs": [
    {
     "name": "stdin",
     "output_type": "stream",
     "text": [
      "Enter a number:  5\n"
     ]
    },
    {
     "name": "stdout",
     "output_type": "stream",
     "text": [
      "the factorial of the number is 120\n"
     ]
    }
   ],
   "source": [
    "def fact(i):\n",
    "    if i < 0:\n",
    "        return \"NO FACTORIAL FOR NEGATIVE NUMBERS\"\n",
    "    elif i == 0:\n",
    "        return 1\n",
    "    else:\n",
    "        return i * fact(i - 1)\n",
    "number = int(input(\"Enter a number: \"))\n",
    "print(\"the factorial of the number is\",fact(number))\n"
   ]
  },
  {
   "cell_type": "code",
   "execution_count": 88,
   "id": "4efa9e84-0694-4198-9e06-69abcade6550",
   "metadata": {},
   "outputs": [
    {
     "name": "stdout",
     "output_type": "stream",
     "text": [
      "[4, 16, 36, 64, 100, 144, 196, 256, 324, 400]\n"
     ]
    }
   ],
   "source": [
    "squareseven_numbers = [x**2 for x in range(1, 21) if x % 2 == 0]\n",
    "print(squareseven_numbers)\n"
   ]
  },
  {
   "cell_type": "code",
   "execution_count": 42,
   "id": "79bbc7b2-bc6b-4528-ba83-470fe54198fd",
   "metadata": {},
   "outputs": [
    {
     "name": "stdin",
     "output_type": "stream",
     "text": [
      "Enter a string:  mmmamrrnnstr\n"
     ]
    },
    {
     "name": "stdout",
     "output_type": "stream",
     "text": [
      "Character frequency: {'m': 4, 'a': 1, 'r': 3, 'n': 2, 's': 1, 't': 1}\n"
     ]
    }
   ],
   "source": [
    "def countCHARfreq(instring):\n",
    "    freqdict = {}\n",
    "    for char in instring:\n",
    "        if char in freqdict:\n",
    "            freqdict[char] += 1\n",
    "        else:\n",
    "            freqdict[char] = 1\n",
    "    return freqdict\n",
    "\n",
    "user_string = input(\"Enter a string: \")\n",
    "char_frequency = countCHARfreq(user_string)\n",
    "print(f\"Character frequency: {char_frequency}\")\n"
   ]
  },
  {
   "cell_type": "code",
   "execution_count": 72,
   "id": "b92fc3d9-934b-41ed-b6c2-00911bf6aa7e",
   "metadata": {},
   "outputs": [
    {
     "name": "stdout",
     "output_type": "stream",
     "text": [
      "1\n",
      "12\n",
      "123\n",
      "1234\n"
     ]
    }
   ],
   "source": [
    "def Pattern(n):\n",
    "\n",
    "    for i in range(1, n + 1):\n",
    "        for j in range(1, i + 1):\n",
    "            print(j, end=\"\")\n",
    "        print()  \n",
    "\n",
    "n = 4  \n",
    "Pattern(n)\n"
   ]
  },
  {
   "cell_type": "code",
   "execution_count": 86,
   "id": "c8159e08-44b5-4487-9c76-2484e3c2c81f",
   "metadata": {},
   "outputs": [
    {
     "name": "stdin",
     "output_type": "stream",
     "text": [
      "Enter the first number:  6\n",
      "Enter the second number:  0\n"
     ]
    },
    {
     "name": "stdout",
     "output_type": "stream",
     "text": [
      "Error: Division by zero is not allowed.\n"
     ]
    }
   ],
   "source": [
    "try:\n",
    "    number1 = float(input(\"Enter the first number: \"))\n",
    "    number2 = float(input(\"Enter the second number: \"))\n",
    "    if number2 == 0:\n",
    "        print(\"Error: Division by zero is not allowed.\")\n",
    "    else:\n",
    "        result = number1 / number2\n",
    "        print(\"The result of dividing\" ,number1 ,\" by\", number2 ,\"is\", result)\n",
    "except ValueError:\n",
    "    print(\"Invalid input! Please enter a valid number.\")\n"
   ]
  },
  {
   "cell_type": "code",
   "execution_count": null,
   "id": "b0b4a54f-c38c-4f67-992c-bab809e2a62c",
   "metadata": {},
   "outputs": [],
   "source": []
  }
 ],
 "metadata": {
  "kernelspec": {
   "display_name": "Python 3 (ipykernel)",
   "language": "python",
   "name": "python3"
  },
  "language_info": {
   "codemirror_mode": {
    "name": "ipython",
    "version": 3
   },
   "file_extension": ".py",
   "mimetype": "text/x-python",
   "name": "python",
   "nbconvert_exporter": "python",
   "pygments_lexer": "ipython3",
   "version": "3.12.7"
  }
 },
 "nbformat": 4,
 "nbformat_minor": 5
}
