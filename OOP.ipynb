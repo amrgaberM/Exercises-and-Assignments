{
 "cells": [
  {
   "cell_type": "markdown",
   "id": "9d354ea4-02c7-4c03-b1ff-79c7d9697a1d",
   "metadata": {},
   "source": [
    "# Object Oriented Programming"
   ]
  },
  {
   "cell_type": "markdown",
   "id": "fe341dfd-9de6-401a-b784-1c300632fc97",
   "metadata": {},
   "source": [
    "### Creating a class"
   ]
  },
  {
   "cell_type": "code",
   "execution_count": 2,
   "id": "42d00bf7-9263-4811-986d-9da0ee5fd7ce",
   "metadata": {},
   "outputs": [],
   "source": [
    "class Vehicle:\n",
    "    def __init__(self, make, model):\n",
    "        self.make = make\n",
    "        self.model = model\n",
    "\n",
    "    def moves(self): \n",
    "        print(f\" My {self.make} of {self.model} Moves along..\")\n",
    "\n",
    "    def get_make_model(self):\n",
    "        print(f\"I'm a {self.make} {self.model}.\")\n"
   ]
  },
  {
   "cell_type": "markdown",
   "id": "3d106cb8-f9b4-4eb9-9328-46866c4923b7",
   "metadata": {},
   "source": [
    "### Creating instances from the class (Vehicle)"
   ]
  },
  {
   "cell_type": "code",
   "execution_count": 5,
   "id": "b9038b59-74af-47f0-9482-4f6bae08ac2e",
   "metadata": {},
   "outputs": [
    {
     "name": "stdout",
     "output_type": "stream",
     "text": [
      "I'm a Tesla Model 3.\n",
      " My Tesla of Model 3 Moves along..\n"
     ]
    }
   ],
   "source": [
    "my_car = Vehicle('Tesla', 'Model 3')\n",
    "\n",
    "#print(my_car.make)\n",
    "#print(my_car.model)\n",
    "my_car.get_make_model()\n",
    "my_car.moves()"
   ]
  },
  {
   "cell_type": "code",
   "execution_count": 7,
   "id": "ae23b431-39a0-4b3b-a0b6-3b4f3d72eaa8",
   "metadata": {},
   "outputs": [
    {
     "name": "stdout",
     "output_type": "stream",
     "text": [
      "I'm a Cadillac Escalade.\n",
      " My Cadillac of Escalade Moves along..\n"
     ]
    }
   ],
   "source": [
    "your_car = Vehicle('Cadillac', 'Escalade')\n",
    "your_car.get_make_model()\n",
    "your_car.moves()"
   ]
  },
  {
   "cell_type": "markdown",
   "id": "b28b79fc-11d7-4f01-8dba-592f5a471b26",
   "metadata": {},
   "source": [
    "## Inheritance: creating derived (children) classes from the base (parent) class (Vehicle)"
   ]
  },
  {
   "cell_type": "code",
   "execution_count": 10,
   "id": "726abe60-576e-4ef1-a68b-ff738d3674ec",
   "metadata": {},
   "outputs": [],
   "source": [
    "class Airplane(Vehicle):\n",
    "    def __init__(self, make, model, faa_id):\n",
    "        super().__init__(make, model)\n",
    "        self.faa_id = faa_id\n",
    "\n",
    "    def moves(self):\n",
    "        print('Flies along..')\n",
    "\n",
    "\n",
    "class Truck(Vehicle):\n",
    "    def moves(self):\n",
    "        print('Rumbles along..')\n",
    "\n",
    "\n",
    "class GolfCart(Vehicle):\n",
    "    pass\n"
   ]
  },
  {
   "cell_type": "markdown",
   "id": "c0ac5c40-c826-41fb-ac67-43219addd4bc",
   "metadata": {},
   "source": [
    "### Creating instances from the children classes"
   ]
  },
  {
   "cell_type": "code",
   "execution_count": 13,
   "id": "dcb8a351-344f-423f-81cf-515d2be86a3c",
   "metadata": {},
   "outputs": [
    {
     "name": "stdout",
     "output_type": "stream",
     "text": [
      "I'm a Cessna Skyhawk.\n",
      "Flies along..\n",
      "I'm a Mack Pinnacle.\n",
      "Rumbles along..\n",
      "I'm a Yamaha GC100.\n",
      " My Yamaha of GC100 Moves along..\n"
     ]
    }
   ],
   "source": [
    "cessna = Airplane('Cessna', 'Skyhawk', 'N-12345')\n",
    "mack = Truck('Mack', 'Pinnacle')\n",
    "golfwagon = GolfCart('Yamaha', 'GC100')\n",
    "\n",
    "cessna.get_make_model()\n",
    "cessna.moves()\n",
    "mack.get_make_model()\n",
    "mack.moves()\n",
    "golfwagon.get_make_model()\n",
    "golfwagon.moves()"
   ]
  },
  {
   "cell_type": "markdown",
   "id": "b60865b4-78ad-49b1-888f-54f3341c1697",
   "metadata": {},
   "source": [
    "### Example of Polymorphism "
   ]
  },
  {
   "cell_type": "code",
   "execution_count": 16,
   "id": "3b59db80-4dfc-4254-9440-ffe7a492fb75",
   "metadata": {},
   "outputs": [
    {
     "name": "stdout",
     "output_type": "stream",
     "text": [
      "I'm a Tesla Model 3.\n",
      " My Tesla of Model 3 Moves along..\n",
      "I'm a Cadillac Escalade.\n",
      " My Cadillac of Escalade Moves along..\n",
      "I'm a Cessna Skyhawk.\n",
      "Flies along..\n",
      "I'm a Mack Pinnacle.\n",
      "Rumbles along..\n",
      "I'm a Yamaha GC100.\n",
      " My Yamaha of GC100 Moves along..\n"
     ]
    }
   ],
   "source": [
    "for v in (my_car, your_car, cessna, mack, golfwagon):\n",
    "    v.get_make_model()\n",
    "    v.moves()"
   ]
  },
  {
   "cell_type": "code",
   "execution_count": null,
   "id": "eab43299-73ad-4236-86bb-19cf1247fcc7",
   "metadata": {},
   "outputs": [],
   "source": []
  },
  {
   "cell_type": "code",
   "execution_count": null,
   "id": "339c5cd5-4806-4176-8667-e3aa5d4d050b",
   "metadata": {},
   "outputs": [],
   "source": []
  },
  {
   "cell_type": "code",
   "execution_count": null,
   "id": "50a7e74f-4070-488e-84e7-a0922e9311b9",
   "metadata": {},
   "outputs": [],
   "source": []
  },
  {
   "cell_type": "code",
   "execution_count": null,
   "id": "974adec8-1a94-475d-b526-9bb96d504821",
   "metadata": {},
   "outputs": [],
   "source": []
  }
 ],
 "metadata": {
  "kernelspec": {
   "display_name": "Python 3 (ipykernel)",
   "language": "python",
   "name": "python3"
  },
  "language_info": {
   "codemirror_mode": {
    "name": "ipython",
    "version": 3
   },
   "file_extension": ".py",
   "mimetype": "text/x-python",
   "name": "python",
   "nbconvert_exporter": "python",
   "pygments_lexer": "ipython3",
   "version": "3.12.7"
  }
 },
 "nbformat": 4,
 "nbformat_minor": 5
}
